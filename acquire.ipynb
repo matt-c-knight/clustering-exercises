{
 "cells": [
  {
   "cell_type": "code",
   "execution_count": 2,
   "metadata": {},
   "outputs": [],
   "source": [
    "import pandas as pd\n",
    "import numpy as np\n",
    "import sklearn\n",
    "import acquire\n",
    "from acquire import get_zillow_data"
   ]
  },
  {
   "cell_type": "code",
   "execution_count": 3,
   "metadata": {},
   "outputs": [
    {
     "name": "stderr",
     "output_type": "stream",
     "text": [
      "/usr/local/anaconda3/lib/python3.7/site-packages/IPython/core/interactiveshell.py:3254: DtypeWarning: Columns (64) have mixed types.Specify dtype option on import or set low_memory=False.\n",
      "  if (await self.run_code(code, result,  async_=asy)):\n"
     ]
    }
   ],
   "source": [
    "df = get_zillow_data()"
   ]
  },
  {
   "cell_type": "code",
   "execution_count": 4,
   "metadata": {},
   "outputs": [
    {
     "data": {
      "text/plain": [
       "(77579, 68)"
      ]
     },
     "execution_count": 4,
     "metadata": {},
     "output_type": "execute_result"
    }
   ],
   "source": [
    "df.shape"
   ]
  },
  {
   "cell_type": "markdown",
   "metadata": {},
   "source": [
    "Acquire data from mySQL using the python module to connect and query. You will want to end with a single dataframe. Make sure to include: the logerror, all fields related to the properties that are available. You will end up using all the tables in the database.\n",
    "\n",
    "Be sure to do the correct join (inner, outer, etc.). We do not want to eliminate properties purely because they may have a null value for airconditioningtypeid.\n",
    "Only include properties with a transaction in 2017, and include only the last transaction for each properity (so no duplicate property ID's), along with zestimate error and date of transaction.\n",
    "Only include properties that include a latitude and longitude value."
   ]
  },
  {
   "cell_type": "code",
   "execution_count": 5,
   "metadata": {},
   "outputs": [
    {
     "name": "stdout",
     "output_type": "stream",
     "text": [
      "<class 'pandas.core.frame.DataFrame'>\n",
      "Int64Index: 77579 entries, 0 to 77578\n",
      "Data columns (total 68 columns):\n",
      " #   Column                        Non-Null Count  Dtype  \n",
      "---  ------                        --------------  -----  \n",
      " 0   id                            77579 non-null  int64  \n",
      " 1   parcelid                      77579 non-null  int64  \n",
      " 2   airconditioningtypeid         25007 non-null  float64\n",
      " 3   architecturalstyletypeid      207 non-null    float64\n",
      " 4   basementsqft                  50 non-null     float64\n",
      " 5   bathroomcnt                   77579 non-null  float64\n",
      " 6   bedroomcnt                    77579 non-null  float64\n",
      " 7   buildingclasstypeid           15 non-null     float64\n",
      " 8   buildingqualitytypeid         49809 non-null  float64\n",
      " 9   calculatedbathnbr             76963 non-null  float64\n",
      " 10  decktypeid                    614 non-null    float64\n",
      " 11  finishedfloor1squarefeet      6037 non-null   float64\n",
      " 12  calculatedfinishedsquarefeet  77378 non-null  float64\n",
      " 13  finishedsquarefeet12          73923 non-null  float64\n",
      " 14  finishedsquarefeet13          42 non-null     float64\n",
      " 15  finishedsquarefeet15          3027 non-null   float64\n",
      " 16  finishedsquarefeet50          6037 non-null   float64\n",
      " 17  finishedsquarefeet6           386 non-null    float64\n",
      " 18  fips                          77579 non-null  float64\n",
      " 19  fireplacecnt                  8289 non-null   float64\n",
      " 20  fullbathcnt                   76963 non-null  float64\n",
      " 21  garagecarcnt                  25520 non-null  float64\n",
      " 22  garagetotalsqft               25520 non-null  float64\n",
      " 23  hashottuborspa                1539 non-null   float64\n",
      " 24  heatingorsystemtypeid         49571 non-null  float64\n",
      " 25  latitude                      77579 non-null  float64\n",
      " 26  longitude                     77579 non-null  float64\n",
      " 27  lotsizesquarefeet             69321 non-null  float64\n",
      " 28  poolcnt                       16174 non-null  float64\n",
      " 29  poolsizesum                   869 non-null    float64\n",
      " 30  pooltypeid10                  465 non-null    float64\n",
      " 31  pooltypeid2                   1074 non-null   float64\n",
      " 32  pooltypeid7                   15079 non-null  float64\n",
      " 33  propertycountylandusecode     77579 non-null  object \n",
      " 34  propertylandusetypeid         77579 non-null  float64\n",
      " 35  propertyzoningdesc            50476 non-null  object \n",
      " 36  rawcensustractandblock        77579 non-null  float64\n",
      " 37  regionidcity                  76107 non-null  float64\n",
      " 38  regionidcounty                77579 non-null  float64\n",
      " 39  regionidneighborhood          30974 non-null  float64\n",
      " 40  regionidzip                   77529 non-null  float64\n",
      " 41  roomcnt                       77579 non-null  float64\n",
      " 42  storytypeid                   50 non-null     float64\n",
      " 43  threequarterbathnbr           10106 non-null  float64\n",
      " 44  typeconstructiontypeid        223 non-null    float64\n",
      " 45  unitcnt                       50703 non-null  float64\n",
      " 46  yardbuildingsqft17            2393 non-null   float64\n",
      " 47  yardbuildingsqft26            70 non-null     float64\n",
      " 48  yearbuilt                     77309 non-null  float64\n",
      " 49  numberofstories               17599 non-null  float64\n",
      " 50  fireplaceflag                 172 non-null    float64\n",
      " 51  structuretaxvaluedollarcnt    77464 non-null  float64\n",
      " 52  taxvaluedollarcnt             77578 non-null  float64\n",
      " 53  assessmentyear                77579 non-null  float64\n",
      " 54  landtaxvaluedollarcnt         77577 non-null  float64\n",
      " 55  taxamount                     77574 non-null  float64\n",
      " 56  taxdelinquencyflag            2900 non-null   object \n",
      " 57  taxdelinquencyyear            2900 non-null   float64\n",
      " 58  censustractandblock           77332 non-null  float64\n",
      " 59  logerror                      77579 non-null  float64\n",
      " 60  transactiondate               77579 non-null  object \n",
      " 61  airconditioningdesc           25007 non-null  object \n",
      " 62  architecturalstyledesc        207 non-null    object \n",
      " 63  buildingclassdesc             15 non-null     object \n",
      " 64  heatingorsystemdesc           49571 non-null  object \n",
      " 65  propertylandusedesc           77579 non-null  object \n",
      " 66  storydesc                     50 non-null     object \n",
      " 67  typeconstructiondesc          223 non-null    object \n",
      "dtypes: float64(55), int64(2), object(11)\n",
      "memory usage: 40.8+ MB\n"
     ]
    }
   ],
   "source": [
    "df.info()"
   ]
  },
  {
   "cell_type": "code",
   "execution_count": 8,
   "metadata": {},
   "outputs": [],
   "source": [
    "new_df = df[['parcelid', 'transactiondate']]"
   ]
  },
  {
   "cell_type": "code",
   "execution_count": 10,
   "metadata": {},
   "outputs": [
    {
     "data": {
      "text/plain": [
       "(77579, 2)"
      ]
     },
     "execution_count": 10,
     "metadata": {},
     "output_type": "execute_result"
    }
   ],
   "source": [
    "new_df.shape\n"
   ]
  },
  {
   "cell_type": "code",
   "execution_count": 11,
   "metadata": {},
   "outputs": [
    {
     "data": {
      "text/plain": [
       "77381"
      ]
     },
     "execution_count": 11,
     "metadata": {},
     "output_type": "execute_result"
    }
   ],
   "source": [
    "new_df.parcelid.nunique()"
   ]
  },
  {
   "cell_type": "code",
   "execution_count": 13,
   "metadata": {},
   "outputs": [
    {
     "data": {
      "text/plain": [
       "'2017-09-25'"
      ]
     },
     "execution_count": 13,
     "metadata": {},
     "output_type": "execute_result"
    }
   ],
   "source": [
    "max(new_df.transactiondate)"
   ]
  },
  {
   "cell_type": "code",
   "execution_count": 17,
   "metadata": {},
   "outputs": [],
   "source": [
    "new_df = new_df[new_df.groupby('parcelid')['transactiondate'].transform('max') == new_df['transactiondate']]\n"
   ]
  },
  {
   "cell_type": "code",
   "execution_count": 18,
   "metadata": {},
   "outputs": [
    {
     "data": {
      "text/plain": [
       "(77381, 2)"
      ]
     },
     "execution_count": 18,
     "metadata": {},
     "output_type": "execute_result"
    }
   ],
   "source": [
    "new_df.shape"
   ]
  },
  {
   "cell_type": "code",
   "execution_count": 19,
   "metadata": {},
   "outputs": [],
   "source": [
    "df = df[df.groupby('parcelid')['transactiondate'].transform('max') == df['transactiondate']]\n"
   ]
  },
  {
   "cell_type": "markdown",
   "metadata": {},
   "source": [
    "# Summary Stats"
   ]
  },
  {
   "cell_type": "code",
   "execution_count": 20,
   "metadata": {},
   "outputs": [
    {
     "data": {
      "text/plain": [
       "(77381, 68)"
      ]
     },
     "execution_count": 20,
     "metadata": {},
     "output_type": "execute_result"
    }
   ],
   "source": [
    "df.shape"
   ]
  },
  {
   "cell_type": "code",
   "execution_count": 21,
   "metadata": {},
   "outputs": [
    {
     "data": {
      "text/html": [
       "<div>\n",
       "<style scoped>\n",
       "    .dataframe tbody tr th:only-of-type {\n",
       "        vertical-align: middle;\n",
       "    }\n",
       "\n",
       "    .dataframe tbody tr th {\n",
       "        vertical-align: top;\n",
       "    }\n",
       "\n",
       "    .dataframe thead th {\n",
       "        text-align: right;\n",
       "    }\n",
       "</style>\n",
       "<table border=\"1\" class=\"dataframe\">\n",
       "  <thead>\n",
       "    <tr style=\"text-align: right;\">\n",
       "      <th></th>\n",
       "      <th>id</th>\n",
       "      <th>parcelid</th>\n",
       "      <th>airconditioningtypeid</th>\n",
       "      <th>architecturalstyletypeid</th>\n",
       "      <th>basementsqft</th>\n",
       "      <th>bathroomcnt</th>\n",
       "      <th>bedroomcnt</th>\n",
       "      <th>buildingclasstypeid</th>\n",
       "      <th>buildingqualitytypeid</th>\n",
       "      <th>calculatedbathnbr</th>\n",
       "      <th>...</th>\n",
       "      <th>numberofstories</th>\n",
       "      <th>fireplaceflag</th>\n",
       "      <th>structuretaxvaluedollarcnt</th>\n",
       "      <th>taxvaluedollarcnt</th>\n",
       "      <th>assessmentyear</th>\n",
       "      <th>landtaxvaluedollarcnt</th>\n",
       "      <th>taxamount</th>\n",
       "      <th>taxdelinquencyyear</th>\n",
       "      <th>censustractandblock</th>\n",
       "      <th>logerror</th>\n",
       "    </tr>\n",
       "  </thead>\n",
       "  <tbody>\n",
       "    <tr>\n",
       "      <th>count</th>\n",
       "      <td>7.738100e+04</td>\n",
       "      <td>7.738100e+04</td>\n",
       "      <td>24953.000000</td>\n",
       "      <td>206.000000</td>\n",
       "      <td>50.000000</td>\n",
       "      <td>77381.000000</td>\n",
       "      <td>77381.000000</td>\n",
       "      <td>15.000000</td>\n",
       "      <td>49672.000000</td>\n",
       "      <td>76772.000000</td>\n",
       "      <td>...</td>\n",
       "      <td>17560.000000</td>\n",
       "      <td>172.0</td>\n",
       "      <td>7.726900e+04</td>\n",
       "      <td>7.738000e+04</td>\n",
       "      <td>77381.0</td>\n",
       "      <td>7.737900e+04</td>\n",
       "      <td>77376.000000</td>\n",
       "      <td>2886.000000</td>\n",
       "      <td>7.713700e+04</td>\n",
       "      <td>77381.000000</td>\n",
       "    </tr>\n",
       "    <tr>\n",
       "      <th>mean</th>\n",
       "      <td>1.495139e+06</td>\n",
       "      <td>1.300715e+07</td>\n",
       "      <td>1.813289</td>\n",
       "      <td>7.388350</td>\n",
       "      <td>679.720000</td>\n",
       "      <td>2.299130</td>\n",
       "      <td>3.053489</td>\n",
       "      <td>3.933333</td>\n",
       "      <td>6.534587</td>\n",
       "      <td>2.316867</td>\n",
       "      <td>...</td>\n",
       "      <td>1.434738</td>\n",
       "      <td>1.0</td>\n",
       "      <td>1.893145e+05</td>\n",
       "      <td>4.901345e+05</td>\n",
       "      <td>2016.0</td>\n",
       "      <td>3.010954e+05</td>\n",
       "      <td>5995.532346</td>\n",
       "      <td>14.087318</td>\n",
       "      <td>6.049673e+13</td>\n",
       "      <td>0.016625</td>\n",
       "    </tr>\n",
       "    <tr>\n",
       "      <th>std</th>\n",
       "      <td>8.609071e+05</td>\n",
       "      <td>3.481346e+06</td>\n",
       "      <td>2.967894</td>\n",
       "      <td>2.734542</td>\n",
       "      <td>689.703546</td>\n",
       "      <td>0.996651</td>\n",
       "      <td>1.139096</td>\n",
       "      <td>0.258199</td>\n",
       "      <td>1.721953</td>\n",
       "      <td>0.979755</td>\n",
       "      <td>...</td>\n",
       "      <td>0.544569</td>\n",
       "      <td>0.0</td>\n",
       "      <td>2.300874e+05</td>\n",
       "      <td>6.534440e+05</td>\n",
       "      <td>0.0</td>\n",
       "      <td>4.925960e+05</td>\n",
       "      <td>7622.844153</td>\n",
       "      <td>2.185663</td>\n",
       "      <td>1.535242e+12</td>\n",
       "      <td>0.170191</td>\n",
       "    </tr>\n",
       "    <tr>\n",
       "      <th>min</th>\n",
       "      <td>3.490000e+02</td>\n",
       "      <td>1.071186e+07</td>\n",
       "      <td>1.000000</td>\n",
       "      <td>2.000000</td>\n",
       "      <td>38.000000</td>\n",
       "      <td>0.000000</td>\n",
       "      <td>0.000000</td>\n",
       "      <td>3.000000</td>\n",
       "      <td>1.000000</td>\n",
       "      <td>1.000000</td>\n",
       "      <td>...</td>\n",
       "      <td>1.000000</td>\n",
       "      <td>1.0</td>\n",
       "      <td>4.400000e+01</td>\n",
       "      <td>1.000000e+03</td>\n",
       "      <td>2016.0</td>\n",
       "      <td>1.610000e+02</td>\n",
       "      <td>19.920000</td>\n",
       "      <td>3.000000</td>\n",
       "      <td>6.037101e+13</td>\n",
       "      <td>-4.655420</td>\n",
       "    </tr>\n",
       "    <tr>\n",
       "      <th>25%</th>\n",
       "      <td>7.520700e+05</td>\n",
       "      <td>1.153830e+07</td>\n",
       "      <td>1.000000</td>\n",
       "      <td>7.000000</td>\n",
       "      <td>273.000000</td>\n",
       "      <td>2.000000</td>\n",
       "      <td>2.000000</td>\n",
       "      <td>4.000000</td>\n",
       "      <td>6.000000</td>\n",
       "      <td>2.000000</td>\n",
       "      <td>...</td>\n",
       "      <td>1.000000</td>\n",
       "      <td>1.0</td>\n",
       "      <td>8.426500e+04</td>\n",
       "      <td>2.070000e+05</td>\n",
       "      <td>2016.0</td>\n",
       "      <td>8.550400e+04</td>\n",
       "      <td>2715.632500</td>\n",
       "      <td>14.000000</td>\n",
       "      <td>6.037311e+13</td>\n",
       "      <td>-0.024377</td>\n",
       "    </tr>\n",
       "    <tr>\n",
       "      <th>50%</th>\n",
       "      <td>1.497932e+06</td>\n",
       "      <td>1.253157e+07</td>\n",
       "      <td>1.000000</td>\n",
       "      <td>7.000000</td>\n",
       "      <td>515.000000</td>\n",
       "      <td>2.000000</td>\n",
       "      <td>3.000000</td>\n",
       "      <td>4.000000</td>\n",
       "      <td>6.000000</td>\n",
       "      <td>2.000000</td>\n",
       "      <td>...</td>\n",
       "      <td>1.000000</td>\n",
       "      <td>1.0</td>\n",
       "      <td>1.364990e+05</td>\n",
       "      <td>3.589755e+05</td>\n",
       "      <td>2016.0</td>\n",
       "      <td>2.033720e+05</td>\n",
       "      <td>4450.695000</td>\n",
       "      <td>15.000000</td>\n",
       "      <td>6.037603e+13</td>\n",
       "      <td>0.006627</td>\n",
       "    </tr>\n",
       "    <tr>\n",
       "      <th>75%</th>\n",
       "      <td>2.240535e+06</td>\n",
       "      <td>1.421183e+07</td>\n",
       "      <td>1.000000</td>\n",
       "      <td>7.000000</td>\n",
       "      <td>796.500000</td>\n",
       "      <td>3.000000</td>\n",
       "      <td>4.000000</td>\n",
       "      <td>4.000000</td>\n",
       "      <td>8.000000</td>\n",
       "      <td>3.000000</td>\n",
       "      <td>...</td>\n",
       "      <td>2.000000</td>\n",
       "      <td>1.0</td>\n",
       "      <td>2.187870e+05</td>\n",
       "      <td>5.690015e+05</td>\n",
       "      <td>2016.0</td>\n",
       "      <td>3.667965e+05</td>\n",
       "      <td>6927.790000</td>\n",
       "      <td>15.000000</td>\n",
       "      <td>6.059042e+13</td>\n",
       "      <td>0.039203</td>\n",
       "    </tr>\n",
       "    <tr>\n",
       "      <th>max</th>\n",
       "      <td>2.982274e+06</td>\n",
       "      <td>1.676893e+08</td>\n",
       "      <td>13.000000</td>\n",
       "      <td>21.000000</td>\n",
       "      <td>3560.000000</td>\n",
       "      <td>18.000000</td>\n",
       "      <td>16.000000</td>\n",
       "      <td>4.000000</td>\n",
       "      <td>12.000000</td>\n",
       "      <td>18.000000</td>\n",
       "      <td>...</td>\n",
       "      <td>6.000000</td>\n",
       "      <td>1.0</td>\n",
       "      <td>1.142179e+07</td>\n",
       "      <td>4.906124e+07</td>\n",
       "      <td>2016.0</td>\n",
       "      <td>4.895220e+07</td>\n",
       "      <td>586639.300000</td>\n",
       "      <td>99.000000</td>\n",
       "      <td>4.830301e+14</td>\n",
       "      <td>5.262999</td>\n",
       "    </tr>\n",
       "  </tbody>\n",
       "</table>\n",
       "<p>8 rows × 57 columns</p>\n",
       "</div>"
      ],
      "text/plain": [
       "                 id      parcelid  airconditioningtypeid  \\\n",
       "count  7.738100e+04  7.738100e+04           24953.000000   \n",
       "mean   1.495139e+06  1.300715e+07               1.813289   \n",
       "std    8.609071e+05  3.481346e+06               2.967894   \n",
       "min    3.490000e+02  1.071186e+07               1.000000   \n",
       "25%    7.520700e+05  1.153830e+07               1.000000   \n",
       "50%    1.497932e+06  1.253157e+07               1.000000   \n",
       "75%    2.240535e+06  1.421183e+07               1.000000   \n",
       "max    2.982274e+06  1.676893e+08              13.000000   \n",
       "\n",
       "       architecturalstyletypeid  basementsqft   bathroomcnt    bedroomcnt  \\\n",
       "count                206.000000     50.000000  77381.000000  77381.000000   \n",
       "mean                   7.388350    679.720000      2.299130      3.053489   \n",
       "std                    2.734542    689.703546      0.996651      1.139096   \n",
       "min                    2.000000     38.000000      0.000000      0.000000   \n",
       "25%                    7.000000    273.000000      2.000000      2.000000   \n",
       "50%                    7.000000    515.000000      2.000000      3.000000   \n",
       "75%                    7.000000    796.500000      3.000000      4.000000   \n",
       "max                   21.000000   3560.000000     18.000000     16.000000   \n",
       "\n",
       "       buildingclasstypeid  buildingqualitytypeid  calculatedbathnbr  ...  \\\n",
       "count            15.000000           49672.000000       76772.000000  ...   \n",
       "mean              3.933333               6.534587           2.316867  ...   \n",
       "std               0.258199               1.721953           0.979755  ...   \n",
       "min               3.000000               1.000000           1.000000  ...   \n",
       "25%               4.000000               6.000000           2.000000  ...   \n",
       "50%               4.000000               6.000000           2.000000  ...   \n",
       "75%               4.000000               8.000000           3.000000  ...   \n",
       "max               4.000000              12.000000          18.000000  ...   \n",
       "\n",
       "       numberofstories  fireplaceflag  structuretaxvaluedollarcnt  \\\n",
       "count     17560.000000          172.0                7.726900e+04   \n",
       "mean          1.434738            1.0                1.893145e+05   \n",
       "std           0.544569            0.0                2.300874e+05   \n",
       "min           1.000000            1.0                4.400000e+01   \n",
       "25%           1.000000            1.0                8.426500e+04   \n",
       "50%           1.000000            1.0                1.364990e+05   \n",
       "75%           2.000000            1.0                2.187870e+05   \n",
       "max           6.000000            1.0                1.142179e+07   \n",
       "\n",
       "       taxvaluedollarcnt  assessmentyear  landtaxvaluedollarcnt  \\\n",
       "count       7.738000e+04         77381.0           7.737900e+04   \n",
       "mean        4.901345e+05          2016.0           3.010954e+05   \n",
       "std         6.534440e+05             0.0           4.925960e+05   \n",
       "min         1.000000e+03          2016.0           1.610000e+02   \n",
       "25%         2.070000e+05          2016.0           8.550400e+04   \n",
       "50%         3.589755e+05          2016.0           2.033720e+05   \n",
       "75%         5.690015e+05          2016.0           3.667965e+05   \n",
       "max         4.906124e+07          2016.0           4.895220e+07   \n",
       "\n",
       "           taxamount  taxdelinquencyyear  censustractandblock      logerror  \n",
       "count   77376.000000         2886.000000         7.713700e+04  77381.000000  \n",
       "mean     5995.532346           14.087318         6.049673e+13      0.016625  \n",
       "std      7622.844153            2.185663         1.535242e+12      0.170191  \n",
       "min        19.920000            3.000000         6.037101e+13     -4.655420  \n",
       "25%      2715.632500           14.000000         6.037311e+13     -0.024377  \n",
       "50%      4450.695000           15.000000         6.037603e+13      0.006627  \n",
       "75%      6927.790000           15.000000         6.059042e+13      0.039203  \n",
       "max    586639.300000           99.000000         4.830301e+14      5.262999  \n",
       "\n",
       "[8 rows x 57 columns]"
      ]
     },
     "execution_count": 21,
     "metadata": {},
     "output_type": "execute_result"
    }
   ],
   "source": [
    "df.describe()"
   ]
  },
  {
   "cell_type": "code",
   "execution_count": null,
   "metadata": {},
   "outputs": [],
   "source": []
  }
 ],
 "metadata": {
  "kernelspec": {
   "display_name": "Python 3",
   "language": "python",
   "name": "python3"
  },
  "language_info": {
   "codemirror_mode": {
    "name": "ipython",
    "version": 3
   },
   "file_extension": ".py",
   "mimetype": "text/x-python",
   "name": "python",
   "nbconvert_exporter": "python",
   "pygments_lexer": "ipython3",
   "version": "3.7.6"
  }
 },
 "nbformat": 4,
 "nbformat_minor": 4
}
