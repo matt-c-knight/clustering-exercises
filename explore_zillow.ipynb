{
 "cells": [
  {
   "cell_type": "code",
   "execution_count": 1,
   "metadata": {},
   "outputs": [],
   "source": [
    "import pandas as pd\n",
    "import numpy as np\n",
    "from sklearn.model_selection import train_test_split\n",
    "\n",
    "import scipy.stats as stats\n",
    "\n",
    "import matplotlib.pyplot as plt\n",
    "from matplotlib import cm\n",
    "import seaborn as sns\n",
    "from acquire import get_zillow_data"
   ]
  },
  {
   "cell_type": "markdown",
   "metadata": {},
   "source": [
    "# Acquire and briefly Prepare data"
   ]
  },
  {
   "cell_type": "code",
   "execution_count": 2,
   "metadata": {},
   "outputs": [
    {
     "name": "stderr",
     "output_type": "stream",
     "text": [
      "/usr/local/anaconda3/lib/python3.7/site-packages/IPython/core/interactiveshell.py:3254: DtypeWarning: Columns (64) have mixed types.Specify dtype option on import or set low_memory=False.\n",
      "  if (await self.run_code(code, result,  async_=asy)):\n"
     ]
    }
   ],
   "source": [
    "df = get_zillow_data()"
   ]
  },
  {
   "cell_type": "code",
   "execution_count": 3,
   "metadata": {},
   "outputs": [
    {
     "name": "stdout",
     "output_type": "stream",
     "text": [
      "<class 'pandas.core.frame.DataFrame'>\n",
      "Int64Index: 77579 entries, 0 to 77578\n",
      "Data columns (total 68 columns):\n",
      " #   Column                        Non-Null Count  Dtype  \n",
      "---  ------                        --------------  -----  \n",
      " 0   id                            77579 non-null  int64  \n",
      " 1   parcelid                      77579 non-null  int64  \n",
      " 2   airconditioningtypeid         25007 non-null  float64\n",
      " 3   architecturalstyletypeid      207 non-null    float64\n",
      " 4   basementsqft                  50 non-null     float64\n",
      " 5   bathroomcnt                   77579 non-null  float64\n",
      " 6   bedroomcnt                    77579 non-null  float64\n",
      " 7   buildingclasstypeid           15 non-null     float64\n",
      " 8   buildingqualitytypeid         49809 non-null  float64\n",
      " 9   calculatedbathnbr             76963 non-null  float64\n",
      " 10  decktypeid                    614 non-null    float64\n",
      " 11  finishedfloor1squarefeet      6037 non-null   float64\n",
      " 12  calculatedfinishedsquarefeet  77378 non-null  float64\n",
      " 13  finishedsquarefeet12          73923 non-null  float64\n",
      " 14  finishedsquarefeet13          42 non-null     float64\n",
      " 15  finishedsquarefeet15          3027 non-null   float64\n",
      " 16  finishedsquarefeet50          6037 non-null   float64\n",
      " 17  finishedsquarefeet6           386 non-null    float64\n",
      " 18  fips                          77579 non-null  float64\n",
      " 19  fireplacecnt                  8289 non-null   float64\n",
      " 20  fullbathcnt                   76963 non-null  float64\n",
      " 21  garagecarcnt                  25520 non-null  float64\n",
      " 22  garagetotalsqft               25520 non-null  float64\n",
      " 23  hashottuborspa                1539 non-null   float64\n",
      " 24  heatingorsystemtypeid         49571 non-null  float64\n",
      " 25  latitude                      77579 non-null  float64\n",
      " 26  longitude                     77579 non-null  float64\n",
      " 27  lotsizesquarefeet             69321 non-null  float64\n",
      " 28  poolcnt                       16174 non-null  float64\n",
      " 29  poolsizesum                   869 non-null    float64\n",
      " 30  pooltypeid10                  465 non-null    float64\n",
      " 31  pooltypeid2                   1074 non-null   float64\n",
      " 32  pooltypeid7                   15079 non-null  float64\n",
      " 33  propertycountylandusecode     77579 non-null  object \n",
      " 34  propertylandusetypeid         77579 non-null  float64\n",
      " 35  propertyzoningdesc            50476 non-null  object \n",
      " 36  rawcensustractandblock        77579 non-null  float64\n",
      " 37  regionidcity                  76107 non-null  float64\n",
      " 38  regionidcounty                77579 non-null  float64\n",
      " 39  regionidneighborhood          30974 non-null  float64\n",
      " 40  regionidzip                   77529 non-null  float64\n",
      " 41  roomcnt                       77579 non-null  float64\n",
      " 42  storytypeid                   50 non-null     float64\n",
      " 43  threequarterbathnbr           10106 non-null  float64\n",
      " 44  typeconstructiontypeid        223 non-null    float64\n",
      " 45  unitcnt                       50703 non-null  float64\n",
      " 46  yardbuildingsqft17            2393 non-null   float64\n",
      " 47  yardbuildingsqft26            70 non-null     float64\n",
      " 48  yearbuilt                     77309 non-null  float64\n",
      " 49  numberofstories               17599 non-null  float64\n",
      " 50  fireplaceflag                 172 non-null    float64\n",
      " 51  structuretaxvaluedollarcnt    77464 non-null  float64\n",
      " 52  taxvaluedollarcnt             77578 non-null  float64\n",
      " 53  assessmentyear                77579 non-null  float64\n",
      " 54  landtaxvaluedollarcnt         77577 non-null  float64\n",
      " 55  taxamount                     77574 non-null  float64\n",
      " 56  taxdelinquencyflag            2900 non-null   object \n",
      " 57  taxdelinquencyyear            2900 non-null   float64\n",
      " 58  censustractandblock           77332 non-null  float64\n",
      " 59  logerror                      77579 non-null  float64\n",
      " 60  transactiondate               77579 non-null  object \n",
      " 61  airconditioningdesc           25007 non-null  object \n",
      " 62  architecturalstyledesc        207 non-null    object \n",
      " 63  buildingclassdesc             15 non-null     object \n",
      " 64  heatingorsystemdesc           49571 non-null  object \n",
      " 65  propertylandusedesc           77579 non-null  object \n",
      " 66  storydesc                     50 non-null     object \n",
      " 67  typeconstructiondesc          223 non-null    object \n",
      "dtypes: float64(55), int64(2), object(11)\n",
      "memory usage: 40.8+ MB\n"
     ]
    }
   ],
   "source": [
    "df.info()"
   ]
  },
  {
   "cell_type": "code",
   "execution_count": 4,
   "metadata": {},
   "outputs": [],
   "source": [
    "df = df[df.groupby('parcelid')['transactiondate'].transform('max') == df['transactiondate']]\n"
   ]
  },
  {
   "cell_type": "code",
   "execution_count": 5,
   "metadata": {},
   "outputs": [],
   "source": [
    "new_df = df[df['propertylandusedesc'].isin(['Single Family Residential', 'Manufactured, Modular, Prefabricated Homes', 'Townhouse', 'Mobile Home ' ])]"
   ]
  },
  {
   "cell_type": "code",
   "execution_count": 6,
   "metadata": {},
   "outputs": [],
   "source": [
    "new_df = new_df[new_df['bathroomcnt'] >= 1]"
   ]
  },
  {
   "cell_type": "code",
   "execution_count": 7,
   "metadata": {},
   "outputs": [],
   "source": [
    "new_df = new_df[new_df['bathroomcnt'] >= 1]"
   ]
  },
  {
   "cell_type": "code",
   "execution_count": 8,
   "metadata": {},
   "outputs": [],
   "source": [
    "def handle_missing_values(df, prop_required_column = .60, prop_required_row = .75):\n",
    "    threshold = int(round(prop_required_column*len(df.index),0))\n",
    "    df.dropna(axis=1, thresh=threshold, inplace=True)\n",
    "    threshold = int(round(prop_required_row*len(df.columns),0))\n",
    "    df.dropna(axis=0, thresh=threshold, inplace=True)\n",
    "    return df"
   ]
  },
  {
   "cell_type": "code",
   "execution_count": 10,
   "metadata": {},
   "outputs": [],
   "source": [
    "new_df = handle_missing_values(new_df)"
   ]
  },
  {
   "cell_type": "code",
   "execution_count": 13,
   "metadata": {},
   "outputs": [],
   "source": [
    "def remove_columns(df, cols_to_remove):  \n",
    "    df = df.drop(columns=cols_to_remove)\n",
    "    return df"
   ]
  },
  {
   "cell_type": "code",
   "execution_count": 14,
   "metadata": {},
   "outputs": [],
   "source": [
    "new_df = remove_columns(new_df, ['id','parcelid','finishedsquarefeet12', 'censustractandblock','calculatedbathnbr','fullbathcnt', 'regionidcity' , 'structuretaxvaluedollarcnt', 'landtaxvaluedollarcnt','propertycountylandusecode', 'propertylandusetypeid', 'regionidcounty' , 'assessmentyear', 'transactiondate','heatingorsystemtypeid' ])"
   ]
  },
  {
   "cell_type": "code",
   "execution_count": 16,
   "metadata": {},
   "outputs": [],
   "source": [
    "new_df = remove_columns(new_df, ['buildingqualitytypeid' ])"
   ]
  },
  {
   "cell_type": "markdown",
   "metadata": {},
   "source": [
    "#Missing Values\n",
    "- calculatedfinishedsquarefeet\n",
    "- lotsizesquarefeet\n",
    "- taxvaluedollarcnt\n",
    "- taxamount\n",
    "- heatingorsystemdesc"
   ]
  },
  {
   "cell_type": "markdown",
   "metadata": {},
   "source": [
    "**Going to split data before we impute values because imputed values will be calculated on training data**"
   ]
  },
  {
   "cell_type": "markdown",
   "metadata": {},
   "source": [
    "# Train, test, split"
   ]
  },
  {
   "cell_type": "code",
   "execution_count": 17,
   "metadata": {},
   "outputs": [
    {
     "name": "stdout",
     "output_type": "stream",
     "text": [
      "train observations:  526536\n",
      "validate observations:  225666\n",
      "test observations:  188064\n"
     ]
    }
   ],
   "source": [
    "train_validate, test = train_test_split(new_df, test_size=.2, \n",
    "                                        random_state=42)\n",
    "train, validate = train_test_split(train_validate, test_size=.3, \n",
    "                                   random_state=42)\n",
    "\n",
    "print(\"train observations: \", train.size)\n",
    "print(\"validate observations: \", validate.size)\n",
    "print(\"test observations: \", test.size)"
   ]
  },
  {
   "cell_type": "markdown",
   "metadata": {},
   "source": [
    "# Exploration"
   ]
  },
  {
   "cell_type": "markdown",
   "metadata": {},
   "source": [
    "**Ask at least 5 questions about the data, keeping in mind that your target variable is logerror**\n",
    "\n",
    "Is logerror significantly different for properties in LA County vs Orange County vs Ventura County?\n",
    "\n",
    "What is the distribution of each of the variables? This is important as we move forward into testing and modeling?\n",
    "\n",
    "Does the logerror differ across taxvaluedollarcnt?\n",
    "\n",
    "Is there a relationship between logerror and bedroom count? (Linear or otherwise).\n",
    "\n",
    "Is there a relationship between square feet and spending score? (Linear or otherwise).\n",
    "\n",
    "\n"
   ]
  },
  {
   "cell_type": "code",
   "execution_count": 19,
   "metadata": {},
   "outputs": [
    {
     "name": "stdout",
     "output_type": "stream",
     "text": [
      "<class 'pandas.core.frame.DataFrame'>\n",
      "Int64Index: 29252 entries, 63758 to 21830\n",
      "Data columns (total 18 columns):\n",
      " #   Column                        Non-Null Count  Dtype  \n",
      "---  ------                        --------------  -----  \n",
      " 0   bathroomcnt                   29252 non-null  float64\n",
      " 1   bedroomcnt                    29252 non-null  float64\n",
      " 2   calculatedfinishedsquarefeet  29248 non-null  float64\n",
      " 3   fips                          29252 non-null  float64\n",
      " 4   latitude                      29252 non-null  float64\n",
      " 5   longitude                     29252 non-null  float64\n",
      " 6   lotsizesquarefeet             29057 non-null  float64\n",
      " 7   propertyzoningdesc            18901 non-null  object \n",
      " 8   rawcensustractandblock        29252 non-null  float64\n",
      " 9   regionidzip                   29244 non-null  float64\n",
      " 10  roomcnt                       29252 non-null  float64\n",
      " 11  unitcnt                       18916 non-null  float64\n",
      " 12  yearbuilt                     29231 non-null  float64\n",
      " 13  taxvaluedollarcnt             29252 non-null  float64\n",
      " 14  taxamount                     29250 non-null  float64\n",
      " 15  logerror                      29252 non-null  float64\n",
      " 16  heatingorsystemdesc           18968 non-null  object \n",
      " 17  propertylandusedesc           29252 non-null  object \n",
      "dtypes: float64(15), object(3)\n",
      "memory usage: 4.2+ MB\n"
     ]
    }
   ],
   "source": [
    "train.info()"
   ]
  },
  {
   "cell_type": "code",
   "execution_count": 20,
   "metadata": {},
   "outputs": [
    {
     "data": {
      "text/plain": [
       "6037.0    18933\n",
       "6059.0     7888\n",
       "6111.0     2431\n",
       "Name: fips, dtype: int64"
      ]
     },
     "execution_count": 20,
     "metadata": {},
     "output_type": "execute_result"
    }
   ],
   "source": [
    "train.fips.value_counts()"
   ]
  },
  {
   "cell_type": "code",
   "execution_count": null,
   "metadata": {},
   "outputs": [],
   "source": []
  },
  {
   "cell_type": "code",
   "execution_count": 21,
   "metadata": {},
   "outputs": [
    {
     "name": "stderr",
     "output_type": "stream",
     "text": [
      "/usr/local/anaconda3/lib/python3.7/site-packages/pandas/core/indexing.py:965: SettingWithCopyWarning: \n",
      "A value is trying to be set on a copy of a slice from a DataFrame.\n",
      "Try using .loc[row_indexer,col_indexer] = value instead\n",
      "\n",
      "See the caveats in the documentation: https://pandas.pydata.org/pandas-docs/stable/user_guide/indexing.html#returning-a-view-versus-a-copy\n",
      "  self.obj[item] = s\n"
     ]
    }
   ],
   "source": [
    "train.loc[(train.fips == 6059.0),'fips']='Orange County'"
   ]
  },
  {
   "cell_type": "code",
   "execution_count": 22,
   "metadata": {},
   "outputs": [
    {
     "data": {
      "text/plain": [
       "6037.0           18933\n",
       "Orange County     7888\n",
       "6111.0            2431\n",
       "Name: fips, dtype: int64"
      ]
     },
     "execution_count": 22,
     "metadata": {},
     "output_type": "execute_result"
    }
   ],
   "source": [
    "train.fips.value_counts()"
   ]
  },
  {
   "cell_type": "code",
   "execution_count": 23,
   "metadata": {},
   "outputs": [],
   "source": [
    "train.loc[(train.fips == 6037.0),'fips']='Los Angeles County'"
   ]
  },
  {
   "cell_type": "code",
   "execution_count": 24,
   "metadata": {},
   "outputs": [],
   "source": [
    "train.loc[(train.fips == 6111.0),'fips']='Ventura County'"
   ]
  },
  {
   "cell_type": "code",
   "execution_count": 25,
   "metadata": {},
   "outputs": [
    {
     "data": {
      "text/plain": [
       "Los Angeles County    18933\n",
       "Orange County          7888\n",
       "Ventura County         2431\n",
       "Name: fips, dtype: int64"
      ]
     },
     "execution_count": 25,
     "metadata": {},
     "output_type": "execute_result"
    }
   ],
   "source": [
    "train.fips.value_counts()"
   ]
  },
  {
   "cell_type": "code",
   "execution_count": 27,
   "metadata": {},
   "outputs": [
    {
     "data": {
      "image/png": "[encoded data removed]",
      "text/plain": [
       "<Figure size 432x288 with 1 Axes>"
      ]
     },
     "metadata": {
      "needs_background": "light"
     },
     "output_type": "display_data"
    }
   ],
   "source": [
    "sns.barplot(data=train, x=train.fips, y=train.logerror)\n",
    "plt.title('Comparing the differnce in logerror between the California counties')\n",
    "plt.show()"
   ]
  },
  {
   "cell_type": "code",
   "execution_count": null,
   "metadata": {},
   "outputs": [],
   "source": []
  }
 ],
 "metadata": {
  "kernelspec": {
   "display_name": "Python 3",
   "language": "python",
   "name": "python3"
  },
  "language_info": {
   "codemirror_mode": {
    "name": "ipython",
    "version": 3
   },
   "file_extension": ".py",
   "mimetype": "text/x-python",
   "name": "python",
   "nbconvert_exporter": "python",
   "pygments_lexer": "ipython3",
   "version": "3.7.6"
  }
 },
 "nbformat": 4,
 "nbformat_minor": 4
}
